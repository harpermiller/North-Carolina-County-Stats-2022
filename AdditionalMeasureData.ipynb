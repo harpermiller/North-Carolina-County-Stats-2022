{
 "cells": [
  {
   "cell_type": "code",
   "execution_count": 2,
   "metadata": {},
   "outputs": [],
   "source": [
    "import pandas as pd"
   ]
  },
  {
   "attachments": {},
   "cell_type": "markdown",
   "metadata": {},
   "source": [
    "Import Additional Measure Data sheet"
   ]
  },
  {
   "cell_type": "code",
   "execution_count": 3,
   "metadata": {},
   "outputs": [],
   "source": [
    "file_path = '2022 County Health Rankings North Carolina Data - v1.xlsx'\n",
    "county_health_raw = pd.read_excel(file_path, skiprows=1, sheet_name='Additional Measure Data')\n",
    "county_health_raw = county_health_raw.drop(['FIPS','State'], axis=1)"
   ]
  },
  {
   "attachments": {},
   "cell_type": "markdown",
   "metadata": {},
   "source": [
    "Separate Sheet into relevant df's for more size-appropriate wrangling"
   ]
  },
  {
   "cell_type": "code",
   "execution_count": 4,
   "metadata": {},
   "outputs": [],
   "source": [
    "from typing import Dict\n",
    "\n",
    "COUNTY_COL = list(range(1))\n",
    "LIFE_EXP_COLS = list(range(23))\n",
    "CHILD_MORT_COLS = COUNTY_COL + list(range(41, 59))\n",
    "INFANT_MORT_COLS = COUNTY_COL + list(range(59, 78))\n",
    "DRUG_OD_COLS = COUNTY_COL + list(range(93, 112))\n",
    "MV_MORT_COLS = COUNTY_COL + list(range(112, 130))\n",
    "MED_HOUSE_INCOME_COLS = COUNTY_COL + list(range(167, 185))\n",
    "HOMICIDE_COLS = COUNTY_COL + list(range(191, 209))\n",
    "SUICIDE_COLS = COUNTY_COL + list(range(209, 229))\n",
    "POPULATION_COLS = COUNTY_COL + list(range(265, 287))\n",
    "\n",
    "def create_dataframes(dataframe: pd.DataFrame) -> Dict[str, pd.DataFrame]:\n",
    "    life_exp_df = dataframe.iloc[:, LIFE_EXP_COLS]\n",
    "    child_mortality_df = dataframe.iloc[:, CHILD_MORT_COLS]\n",
    "    infant_mortality_df = dataframe.iloc[:, INFANT_MORT_COLS]\n",
    "    drug_od_death_df = dataframe.iloc[:, DRUG_OD_COLS]\n",
    "    mv_mortality_df = dataframe.iloc[:, MV_MORT_COLS]\n",
    "    med_house_income_df = dataframe.iloc[:, MED_HOUSE_INCOME_COLS]\n",
    "    homicide_df = dataframe.iloc[:, HOMICIDE_COLS]\n",
    "    suicide_df = dataframe.iloc[:, SUICIDE_COLS]\n",
    "    population_df = dataframe.iloc[:, POPULATION_COLS]\n",
    "    \n",
    "    return {\n",
    "        'life_exp_df': life_exp_df,\n",
    "        'child_mortality_df': child_mortality_df,\n",
    "        'infant_mortality_df': infant_mortality_df,\n",
    "        'drug_od_death_df': drug_od_death_df,\n",
    "        'mv_mortality_df': mv_mortality_df,\n",
    "        'med_house_income_df': med_house_income_df,\n",
    "        'homicide_df': homicide_df,\n",
    "        'suicide_df': suicide_df,\n",
    "        'population_df': population_df\n",
    "    }\n",
    "dataframes = create_dataframes(county_health_raw)"
   ]
  },
  {
   "cell_type": "code",
   "execution_count": 5,
   "metadata": {},
   "outputs": [],
   "source": [
    "county_life_exp = dataframes['life_exp_df'].set_index('County')['Life Expectancy'].to_dict()\n",
    "population_dict = dataframes['population_df'].set_index('County')['Population'].to_dict()"
   ]
  },
  {
   "cell_type": "code",
   "execution_count": null,
   "metadata": {},
   "outputs": [],
   "source": []
  }
 ],
 "metadata": {
  "kernelspec": {
   "display_name": "Python 3",
   "language": "python",
   "name": "python3"
  },
  "language_info": {
   "codemirror_mode": {
    "name": "ipython",
    "version": 3
   },
   "file_extension": ".py",
   "mimetype": "text/x-python",
   "name": "python",
   "nbconvert_exporter": "python",
   "pygments_lexer": "ipython3",
   "version": "3.10.5"
  },
  "orig_nbformat": 4
 },
 "nbformat": 4,
 "nbformat_minor": 2
}
